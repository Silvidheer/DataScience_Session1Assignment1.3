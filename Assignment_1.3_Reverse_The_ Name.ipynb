{
 "cells": [
  {
   "cell_type": "code",
   "execution_count": 2,
   "metadata": {},
   "outputs": [
    {
     "name": "stdout",
     "output_type": "stream",
     "text": [
      "First Name: Silvi\n",
      "Last Name: Dheer\n",
      "reehD ivliS\n"
     ]
    }
   ],
   "source": [
    "# Assignment 1.3\n",
    "#Declare the First name\n",
    "firstName = input(\"First Name: \")\n",
    "#Declare the Last name\n",
    "lastName = input(\"Last Name: \")\n",
    "name = str(firstName +\" \"+ lastName)\n",
    "#print the reverse name\n",
    "print(name[::-1])\n",
    "\n",
    "\n"
   ]
  },
  {
   "cell_type": "code",
   "execution_count": null,
   "metadata": {
    "collapsed": true
   },
   "outputs": [],
   "source": []
  }
 ],
 "metadata": {
  "kernelspec": {
   "display_name": "Python 3",
   "language": "python",
   "name": "python3"
  },
  "language_info": {
   "codemirror_mode": {
    "name": "ipython",
    "version": 3
   },
   "file_extension": ".py",
   "mimetype": "text/x-python",
   "name": "python",
   "nbconvert_exporter": "python",
   "pygments_lexer": "ipython3",
   "version": "3.6.3"
  }
 },
 "nbformat": 4,
 "nbformat_minor": 2
}
